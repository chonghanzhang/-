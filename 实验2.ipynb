{
 "cells": [
  {
   "cell_type": "markdown",
   "id": "a67c4ab2",
   "metadata": {},
   "source": [
    "import yfinance as yf\n",
    "import pandas as pd\n",
    "from sklearn.preprocessing import MinMaxScaler\n",
    "from tensorflow.keras.models import Sequential\n",
    "from tensorflow.keras.layers import LSTM, Dense\n",
    "import matplotlib.pyplot as plt\n",
    "\n",
    "ticker = 'AAPL'  # 这里以苹果公司股票为例，你可以替换成其他股票代码\n",
    "data = yf.download(ticker, start='2020-01-01', end='2023-01-01',proxy='http://127.0.0.1:10203')"
   ]
  },
  {
   "cell_type": "markdown",
   "id": "eb1daf4c",
   "metadata": {},
   "source": [
    "data['Return'] = data['Close'].pct_change()\n",
    "data.dropna(inplace=True)\n",
    "X = data[['Open', 'High', 'Low', 'Close', 'Volume']]\n",
    "y = data['Return']"
   ]
  },
  {
   "cell_type": "markdown",
   "id": "1dfbdd47",
   "metadata": {},
   "source": [
    "scaler = MinMaxScaler()\n",
    "X_scaled = scaler.fit_transform(X)"
   ]
  },
  {
   "cell_type": "markdown",
   "id": "f52aa76c",
   "metadata": {},
   "source": [
    "train_size = int(len(X_scaled) * 0.8)\n",
    "X_train, X_test = X_scaled[:train_size], X_scaled[train_size:]\n",
    "y_train, y_test = y[:train_size], y[train_size:]"
   ]
  },
  {
   "cell_type": "markdown",
   "id": "96d2f5df",
   "metadata": {},
   "source": [
    "model = Sequential()\n",
    "model.add(LSTM(50, return_sequences=True, input_shape=(X_train.shape[1], 1)))\n",
    "model.add(LSTM(50))\n",
    "model.add(Dense(1))"
   ]
  },
  {
   "cell_type": "markdown",
   "id": "30387c90",
   "metadata": {},
   "source": [
    "model.compile(optimizer='adam', loss='mean_squared_error')"
   ]
  },
  {
   "cell_type": "markdown",
   "id": "b1455af8",
   "metadata": {},
   "source": [
    "loss = model.evaluate(X_test, y_test)\n",
    "print(f'Test Loss: {loss}')"
   ]
  },
  {
   "cell_type": "markdown",
   "id": "f9923e75",
   "metadata": {},
   "source": [
    "train_predict = model.predict(X_train)\n",
    "test_predict = model.predict(X_test)"
   ]
  },
  {
   "cell_type": "markdown",
   "id": "3e9ef8e4",
   "metadata": {},
   "source": [
    "train_predict = scaler.inverse_transform(train_predict)\n",
    "test_predict = scaler.inverse_transform(test_predict)"
   ]
  },
  {
   "cell_type": "markdown",
   "id": "0d14ad97",
   "metadata": {},
   "source": [
    "plt.figure(figsize=(10, 6))\n",
    "plt.plot(data['Close'][:train_size], label='True values (Train)')\n",
    "plt.plot(range(train_size, train_size + len(train_predict)), train_predict, label='Predicted values (Train)')\n",
    "plt.plot(range(train_size, len(data['Close'])), data['Close'][train_size:], label='True values (Test)')\n",
    "plt.plot(range(train_size + len(train_predict), len(data['Close']) + len(train_predict) - len(y_test)), test_predict, label='Predicted values (Test)')\n",
    "plt.legend()\n",
    "plt.show()"
   ]
  },
  {
   "cell_type": "code",
   "execution_count": null,
   "id": "2a1f9961",
   "metadata": {},
   "outputs": [],
   "source": []
  },
  {
   "cell_type": "code",
   "execution_count": null,
   "id": "a47180e9",
   "metadata": {},
   "outputs": [],
   "source": []
  },
  {
   "cell_type": "code",
   "execution_count": null,
   "id": "74892e00",
   "metadata": {},
   "outputs": [],
   "source": []
  }
 ],
 "metadata": {
  "kernelspec": {
   "display_name": "Python 3 (ipykernel)",
   "language": "python",
   "name": "python3"
  },
  "language_info": {
   "codemirror_mode": {
    "name": "ipython",
    "version": 3
   },
   "file_extension": ".py",
   "mimetype": "text/x-python",
   "name": "python",
   "nbconvert_exporter": "python",
   "pygments_lexer": "ipython3",
   "version": "3.7.2"
  }
 },
 "nbformat": 4,
 "nbformat_minor": 5
}
