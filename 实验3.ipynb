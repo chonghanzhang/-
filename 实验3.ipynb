{
 "cells": [
  {
   "cell_type": "code",
   "execution_count": null,
   "id": "a9aae0db",
   "metadata": {},
   "outputs": [
    {
     "name": "stdout",
     "output_type": "stream",
     "text": [
      "用户: 我的账户余额是多少\n",
      "聊天机器人: 您可以登录网上银行或手机银行查看余额。\n",
      "用户: 我想申请贷款\n",
      "聊天机器人: 请告诉我您的一些基本信息，我会为您提供贷款申请指引。\n"
     ]
    }
   ],
   "source": [
    "import nltk\n",
    "from nltk.chat.util import Chat, reflections\n",
    "\n",
    "# 定义对话规则\n",
    "pairs = [\n",
    "    ['我的账户余额是多少?', ['您可以登录网上银行或手机银行查看余额。']],\n",
    "    ['我想申请贷款', ['请告诉我您的一些基本信息，我会为您提供贷款申请指引。']]\n",
    "]\n",
    "\n",
    "# 创建聊天机器人\n",
    "chatbot = Chat(pairs, reflections)\n",
    "\n",
    "# 开始对话\n",
    "while True:\n",
    "    user_input = input(\"用户: \")\n",
    "    if user_input.lower() == '退出':\n",
    "        break\n",
    "    response = chatbot.respond(user_input)\n",
    "    print(\"聊天机器人:\", response)"
   ]
  },
  {
   "cell_type": "code",
   "execution_count": null,
   "id": "73d25140",
   "metadata": {},
   "outputs": [],
   "source": []
  }
 ],
 "metadata": {
  "kernelspec": {
   "display_name": "Python 3 (ipykernel)",
   "language": "python",
   "name": "python3"
  },
  "language_info": {
   "codemirror_mode": {
    "name": "ipython",
    "version": 3
   },
   "file_extension": ".py",
   "mimetype": "text/x-python",
   "name": "python",
   "nbconvert_exporter": "python",
   "pygments_lexer": "ipython3",
   "version": "3.7.2"
  }
 },
 "nbformat": 4,
 "nbformat_minor": 5
}
